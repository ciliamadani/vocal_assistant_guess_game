{
 "cells": [
  {
   "cell_type": "code",
   "execution_count": 2,
   "metadata": {},
   "outputs": [],
   "source": [
    "import speech_recognition as sr\n",
    "import pyaudio\n",
    "import random \n",
    "import time"
   ]
  },
  {
   "cell_type": "code",
   "execution_count": 3,
   "metadata": {},
   "outputs": [],
   "source": [
    "\"\"\" \n",
    "La fonction qui va retourner un dictionnaire de 3 elts: \n",
    "l'audio en chaine de caracteres, le resultat de la conx a l'API ansi que des erreurs eventuelles\n",
    "\n",
    "\"\"\"\n",
    "def guess(recognizer, microphone):\n",
    "    with microphone as source: \n",
    "        recognizer.adjust_for_ambient_noise(source,duration=1)\n",
    "        audio= recognizer.listen(source)\n",
    "    #Preparation du dictionnaire a retourner \n",
    "    \n",
    "    response={ \"success\": True,\n",
    "                \"error\": None,\n",
    "                \"text\" : None\n",
    "             }\n",
    "    \n",
    "    #Debut d'identification de la voix en utilisant google web speech API \n",
    "    try:\n",
    "        response[\"text\"] = recognizer.recognize_google(audio)\n",
    "        \n",
    "    \n",
    "    except sr.RequestError:\n",
    "        # API was unreachable or unresponsive\n",
    "        response[\"success\"]= False\n",
    "        response[\"error\"] = \"API non available\"\n",
    "        \n",
    "    except sr.UnknownValueError:\n",
    "        #speech was not clear\n",
    "        response[\"error\"]=\"Unable to recognize speech\"\n",
    "        \n",
    "    return response\n",
    "    "
   ]
  },
  {
   "cell_type": "code",
   "execution_count": 19,
   "metadata": {},
   "outputs": [
    {
     "name": "stdout",
     "output_type": "stream",
     "text": [
      "I'm thinking of a number between zero and ten, do you think you can guess it in only three tries maximum ?\n",
      "guess number 0, speak!\n",
      "ERROR Unable to recognize speech \n"
     ]
    }
   ],
   "source": [
    "if __name__ == \"__main__\":\n",
    "    \n",
    "        #definition de l'intervalle de valeurs \n",
    "        nbrEssais = 3\n",
    "        nbrEssaisExcept = 3\n",
    "        \n",
    "        #Generation d'un nombre arbitraire inclu dans l'intrevalle precedent\n",
    "        nbr= random.choice(['zero','one','two','three','four','five','six','seven','eight','night','ten'])\n",
    "        \n",
    "        #Instanciation de certains objets\n",
    "        recognizer = sr.Recognizer()\n",
    "        microphone = sr.Microphone()\n",
    "        \n",
    "        # Debut du jeu \n",
    "        instruction= \"I'm thinking of a number between zero and ten, do you think you can guess it in only three tries maximum ?\"\n",
    "        \n",
    "        #Afficher le premier message et attendre 3 secondes \n",
    "        print(instruction)\n",
    "        time.sleep(2)\n",
    "        \n",
    "        \n",
    "        for i in range(nbrEssais):\n",
    "            for j in range(nbrEssaisExcept):\n",
    "                print(\"guess number {}, speak!\".format(i))\n",
    "                response = guess(recognizer, microphone)\n",
    "            \n",
    "                #interpretation du resultat \n",
    "                if response[\"success\"]:\n",
    "                    break\n",
    "                if response[\"text\"] : # si different de None\n",
    "                    break\n",
    "                print(\"I didn't catch that, would you say it again please ?\")\n",
    "             \n",
    "            # Si erreur arreter le jeu \n",
    "            if response[\"error\"]:\n",
    "                print(\"ERROR {} \".format(response[\"error\"]))\n",
    "                break \n",
    "            \n",
    "            #Affichage de la reponse du joueur\n",
    "            print(\"You said {} \".format(response[\"text\"]))\n",
    "            \n",
    "            #Verfification de la justesse de la reponse\n",
    "            \n",
    "            if(response[\"text\"].lower() == nbr ):\n",
    "                print(\"whoho! Well guessed.\")\n",
    "                \n",
    "            elif (i <= 2 ):\n",
    "                print(\"Incorect, let's try again!\")\n",
    "                \n",
    "            else:\n",
    "                print (\"I'm sorry you lose this time, I was expecting {} as an anwser\".format(nbr))"
   ]
  }
 ],
 "metadata": {
  "kernelspec": {
   "display_name": "Python 3",
   "language": "python",
   "name": "python3"
  }
 },
 "nbformat": 4,
 "nbformat_minor": 2
}
